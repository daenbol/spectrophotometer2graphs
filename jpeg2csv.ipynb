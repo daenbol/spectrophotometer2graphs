{
 "cells": [
  {
   "cell_type": "markdown",
   "metadata": {},
   "source": [
    "## Import"
   ]
  },
  {
   "cell_type": "code",
   "execution_count": 2,
   "metadata": {},
   "outputs": [
    {
     "name": "stdout",
     "output_type": "stream",
     "text": [
      "Using matplotlib backend: <object object at 0x7f0741ccbd00>\n"
     ]
    }
   ],
   "source": [
    "%matplotlib auto\n",
    "\n",
    "from PIL import Image\n",
    "from urllib.request import urlopen\n",
    "from io import BytesIO\n",
    "\n",
    "import numpy as np\n",
    "import pandas as pd\n",
    "\n",
    "import seaborn as sns\n",
    "\n",
    "import matplotlib.pyplot as plt\n",
    "\n",
    "import cv2"
   ]
  },
  {
   "cell_type": "code",
   "execution_count": 4,
   "metadata": {},
   "outputs": [],
   "source": [
    "def ResizeWithAspectRatio(image, width=None, height=None, inter=cv2.INTER_AREA):\n",
    "    dim = None\n",
    "    (h, w) = image.shape[:2]\n",
    "\n",
    "    if width is None and height is None:\n",
    "        return image\n",
    "    if width is None:\n",
    "        r = height / float(h)\n",
    "        dim = (int(w * r), height)\n",
    "    else:\n",
    "        r = width / float(w)\n",
    "        dim = (width, int(h * r))\n",
    "\n",
    "    return cv2.resize(image, dim, interpolation=inter)"
   ]
  },
  {
   "cell_type": "markdown",
   "metadata": {},
   "source": [
    "### Sample code to open and resize a photo"
   ]
  },
  {
   "cell_type": "code",
   "execution_count": null,
   "metadata": {},
   "outputs": [],
   "source": [
    "im = cv2.imread('photo.jpg')\n",
    "\n",
    "im_res = ResizeWithAspectRatio(im, width=1280)\n",
    "cv2.imshow('frame', im_res)\n",
    "cv2.waitKey(8000)\n",
    "cv2.destroyAllWindows()"
   ]
  },
  {
   "cell_type": "markdown",
   "metadata": {},
   "source": [
    "## Perspective Transform with L2 norm"
   ]
  },
  {
   "cell_type": "markdown",
   "metadata": {},
   "source": [
    "Insert path to photo and 4 points below"
   ]
  },
  {
   "cell_type": "code",
   "execution_count": null,
   "metadata": {},
   "outputs": [],
   "source": [
    "# path to photo\n",
    "im = cv2.imread('photos/20230915_162042.jpg')\n",
    "gray_img=cv2.cvtColor(im,cv2.COLOR_BGR2GRAY)\n",
    "thresh_img=cv2.adaptiveThreshold(gray_img, 255,\n",
    "\tcv2.ADAPTIVE_THRESH_GAUSSIAN_C, cv2.THRESH_BINARY_INV, 15, 3)\n",
    "\n",
    "#cnts = cv2.findContours(thresh_img, cv2.RETR_EXTERNAL, cv2.CHAIN_APPROX_SIMPLE)\n",
    "#cnts = cnts[0] if len(cnts) == 2 else cnts[1]\n",
    "\n",
    "# 4 edge points\n",
    "pt_A = [760, 1943]\n",
    "pt_B = [3990, 1926]\n",
    "pt_C = [774, 2534]\n",
    "pt_D = [3981, 2514]\n",
    "\n",
    "# Here, I have used L2 norm. You can use L1 also.\n",
    "width_AB = np.sqrt(((pt_A[0] - pt_B[0]) ** 2) + ((pt_A[1] - pt_B[1]) ** 2))\n",
    "width_CD = np.sqrt(((pt_C[0] - pt_D[0]) ** 2) + ((pt_C[1] - pt_D[1]) ** 2))\n",
    "maxWidth = max(int(width_AB), int(width_CD))\n",
    " \n",
    " \n",
    "height_AC = np.sqrt(((pt_A[0] - pt_C[0]) ** 2) + ((pt_A[1] - pt_C[1]) ** 2))\n",
    "height_BD = np.sqrt(((pt_B[0] - pt_D[0]) ** 2) + ((pt_B[1] - pt_D[1]) ** 2))\n",
    "maxHeight = max(int(height_AC), int(height_BD))\n",
    "\n",
    "print(maxWidth)\n",
    "print(maxHeight)\n",
    "\n",
    "pts1 = np.float32([pt_A, pt_B,\n",
    "                    pt_C, pt_D])\n",
    "pts2 = np.float32([[0, 0], [maxWidth, 0],\n",
    "                [0, maxHeight], [maxWidth, maxHeight]])\n",
    "    \n",
    "# Apply Perspective Transform Algorithm\n",
    "matrix = cv2.getPerspectiveTransform(pts1, pts2)\n",
    "result = cv2.warpPerspective(im, matrix,(maxWidth, maxHeight),flags=cv2.INTER_LINEAR)\n",
    "    \n",
    "# Wrap the transformed image\n",
    "im_res = ResizeWithAspectRatio(im, width=1280)\n",
    "res_res = ResizeWithAspectRatio(result, width=1280)\n",
    "thresh_img_res = ResizeWithAspectRatio(thresh_img, width=1280)\n",
    "cv2.imshow('frame2', res_res)\n",
    "\n",
    "# Wait time before close\n",
    "cv2.waitKey(8000)\n",
    "cv2.destroyAllWindows()"
   ]
  },
  {
   "cell_type": "markdown",
   "metadata": {},
   "source": [
    "### Write a transformed temprorary png "
   ]
  },
  {
   "cell_type": "code",
   "execution_count": 5,
   "metadata": {},
   "outputs": [
    {
     "data": {
      "text/plain": [
       "True"
      ]
     },
     "execution_count": 5,
     "metadata": {},
     "output_type": "execute_result"
    }
   ],
   "source": [
    "cv2.imwrite('temp.png',result)"
   ]
  },
  {
   "cell_type": "markdown",
   "metadata": {},
   "source": [
    "### Threshold"
   ]
  },
  {
   "cell_type": "code",
   "execution_count": null,
   "metadata": {},
   "outputs": [],
   "source": [
    "img_rgb = cv2.imread('temp.png')\n",
    "\n",
    "assert img_rgb is not None, \"file could not be read, check with os.path.exists()\"\n",
    "img_gray = cv2.cvtColor(img_rgb, cv2.COLOR_BGR2GRAY)\n",
    "template = cv2.imread('templates/2_rec_m.png', cv2.IMREAD_GRAYSCALE)\n",
    "assert template is not None, \"file could not be read, check with os.path.exists()\"\n",
    "w, h = template.shape[::-1]\n",
    "\n",
    "\n",
    "print(w)\n",
    "print(h)\n",
    "\n",
    "res = cv2.matchTemplate(img_gray,template,cv2.TM_CCOEFF_NORMED)\n",
    "threshold = 0.65\n",
    "loc = np.where( res >= threshold)\n",
    "\n",
    "for pt in zip(*loc[::-1]):\n",
    " img_rgb[pt[1]+(h//2), pt[0]+(w//2)] = [0,0,255]\n",
    "\n",
    "img_rgb = ResizeWithAspectRatio(img_rgb, width=1280)\n",
    "img_gray = ResizeWithAspectRatio(img_gray, width=1280)\n",
    "res = ResizeWithAspectRatio(res, width=1280)\n",
    "cv2.imshow('image', res)\n",
    "cv2.imshow('image1', img_rgb)\n",
    "cv2.waitKey(5000)\n",
    "cv2.destroyAllWindows()"
   ]
  },
  {
   "cell_type": "code",
   "execution_count": null,
   "metadata": {},
   "outputs": [],
   "source": [
    "img_rgb = cv2.imread('res.png')\n",
    "\n",
    "assert img_rgb is not None, \"file could not be read, check with os.path.exists()\"\n",
    "img_gray = cv2.cvtColor(img_rgb, cv2.COLOR_BGR2GRAY)\n",
    "template = cv2.imread('templates/2_rec_m.png', cv2.IMREAD_GRAYSCALE)\n",
    "assert template is not None, \"file could not be read, check with os.path.exists()\"\n",
    "w, h = template.shape[::-1]\n",
    "\n",
    "print(w)\n",
    "print(h)\n",
    "\n",
    "sh_h, sh_w, sh_c = img_rgb.shape\n",
    "print(sh_h, sh_w)\n",
    "\n",
    "res = cv2.matchTemplate(img_gray,template,cv2.TM_CCOEFF_NORMED)\n",
    "res_h, res_w = res.shape[:2]\n",
    "\n",
    "threshold = 0.7#0.6975\n",
    "max_val = 1\n",
    "centers = []\n",
    "while max_val > threshold:\n",
    "    min_val, max_val, min_loc, max_loc = cv2.minMaxLoc(res)\n",
    "    if max_val > threshold:\n",
    "        centers.append( (max_loc[0] + w//2, max_loc[1] + h//2) )\n",
    "\n",
    "        x1 = max(max_loc[0] - w//2, 0)\n",
    "        y1 = max(max_loc[1] - h//2, 0)\n",
    "\n",
    "        x2 = min(max_loc[0] + w//2, res_w)\n",
    "        y2 = min(max_loc[1] + h//2, res_h)\n",
    "\n",
    "        res[y1:y2, x1:x2] = 0\n",
    "\n",
    "        img_rgb = cv2.rectangle(img_rgb,(max_loc[0],max_loc[1]), (max_loc[0]+w+1, max_loc[1]+h+1), (0,0,255), 3)\n",
    "\n",
    "# coordinates of rectangle centers\n",
    "print(centers)\n",
    "print(img_rgb.shape)\n",
    "\n",
    "img_rgb = ResizeWithAspectRatio(img_rgb, width=1280)\n",
    "img_gray = ResizeWithAspectRatio(img_gray, width=1280)\n",
    "res = ResizeWithAspectRatio(res, width=1280)\n",
    "cv2.imshow('image', res)\n",
    "cv2.imshow('image1', img_rgb)\n",
    "cv2.waitKey(5000)\n",
    "cv2.destroyAllWindows()"
   ]
  },
  {
   "cell_type": "code",
   "execution_count": 31,
   "metadata": {},
   "outputs": [],
   "source": [
    "centers.append((1340, 397))\n",
    "#centers.append((3309, 735))"
   ]
  },
  {
   "cell_type": "code",
   "execution_count": 7,
   "metadata": {},
   "outputs": [
    {
     "data": {
      "text/plain": [
       "(585, 1280, 3)"
      ]
     },
     "execution_count": 7,
     "metadata": {},
     "output_type": "execute_result"
    }
   ],
   "source": [
    "img_rgb.shape"
   ]
  },
  {
   "cell_type": "markdown",
   "metadata": {},
   "source": [
    "## Transform data to new scale"
   ]
  },
  {
   "cell_type": "markdown",
   "metadata": {},
   "source": [
    "Enter [min, max] of x and y axes"
   ]
  },
  {
   "cell_type": "code",
   "execution_count": null,
   "metadata": {},
   "outputs": [],
   "source": [
    "x = [0, 600]\n",
    "y = [0, 1]"
   ]
  },
  {
   "cell_type": "code",
   "execution_count": 36,
   "metadata": {},
   "outputs": [],
   "source": [
    "df = pd.DataFrame([((i[0]/sh_w)*x[1], y[1]-(i[1]/sh_h*(y[1]-y[0]))) for i in centers])"
   ]
  },
  {
   "cell_type": "code",
   "execution_count": 37,
   "metadata": {},
   "outputs": [],
   "source": [
    "df.columns = [\"x\",\"y\"]"
   ]
  },
  {
   "cell_type": "markdown",
   "metadata": {},
   "source": [
    "Enter name of a csv"
   ]
  },
  {
   "cell_type": "code",
   "execution_count": 38,
   "metadata": {},
   "outputs": [],
   "source": [
    "df.to_csv(\"20230915_162042.csv\")"
   ]
  },
  {
   "cell_type": "markdown",
   "metadata": {},
   "source": [
    "Check graph"
   ]
  },
  {
   "cell_type": "code",
   "execution_count": null,
   "metadata": {},
   "outputs": [],
   "source": [
    "sns.scatterplot(data=df, x=\"x\", y=\"y\")"
   ]
  }
 ],
 "metadata": {
  "kernelspec": {
   "display_name": "MLpy",
   "language": "python",
   "name": "python3"
  },
  "language_info": {
   "codemirror_mode": {
    "name": "ipython",
    "version": 3
   },
   "file_extension": ".py",
   "mimetype": "text/x-python",
   "name": "python",
   "nbconvert_exporter": "python",
   "pygments_lexer": "ipython3",
   "version": "3.11.6"
  },
  "orig_nbformat": 4
 },
 "nbformat": 4,
 "nbformat_minor": 2
}
